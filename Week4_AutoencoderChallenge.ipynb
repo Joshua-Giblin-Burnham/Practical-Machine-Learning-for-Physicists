{
 "cells": [
  {
   "cell_type": "markdown",
   "metadata": {},
   "source": [
    "# Practical Machine Learning for Physicists\n",
    "## Week 2 Exercise - Part 2\n",
    "## Deadline Monday 9th November at 12pm (Noon)"
   ]
  },
  {
   "cell_type": "markdown",
   "metadata": {},
   "source": [
    "For both of these tasks we want you to implement autoencoder networks that:\n",
    "- Train on randomly generated circles (using the circle_generator function below)\n",
    "- Use 27x27 pixel images\n",
    "- Use no more than 30,000 randomly generated samples (e.g. batchsize 30 and 1000 steps, or batchsize 1000 and 30 steps, or anywhere inbetween) in training the final networks for each task\n",
    "- Use the mean_squared_error loss function\n",
    "- Fulfil the network size requirement listed in the task (can be verifired using the print_layers function, after the network is partially trained)"
   ]
  },
  {
   "cell_type": "code",
   "execution_count": 1,
   "metadata": {},
   "outputs": [
    {
     "name": "stdout",
     "output_type": "stream",
     "text": [
      "2.6.0\n"
     ]
    }
   ],
   "source": [
    "# Standard imports\n",
    "import matplotlib.pyplot as plt\n",
    "import numpy as np\n",
    "import math\n",
    "\n",
    "# TensorFlow and tf.keras\n",
    "import tensorflow as tf\n",
    "from tensorflow import keras\n",
    "\n",
    "#Some style imports\n",
    "import matplotlib.style \n",
    "import matplotlib as mpl\n",
    "\n",
    "# Import some image handling/loading libraries\n",
    "from scipy import ndimage\n",
    "\n",
    "# Added for a progress bar\n",
    "from tqdm import tqdm\n",
    "import imageio\n",
    "\n",
    "#Set default figure size\n",
    "#mpl.rcParams['figure.figsize'] = [12.0, 8.0] #Inches... of course it is inches\n",
    "mpl.rcParams['legend.frameon'] = False\n",
    "mpl.rcParams['figure.dpi']=200 # dots per inch\n",
    "\n",
    "#Useful for debugging problems\n",
    "print(tf.__version__)\n"
   ]
  },
  {
   "cell_type": "code",
   "execution_count": 2,
   "metadata": {},
   "outputs": [],
   "source": [
    "#A big messy function to do the training\n",
    "# model -- our keras neural model autoencoder\n",
    "# image_generator -- a function to generate random images for the training (see below for examples)\n",
    "# img_size -- the size of our image in pixels\n",
    "# batchsize -- the number of images to include in each training batch\n",
    "# steps -- the number of steps taken in the training\n",
    "#\n",
    "# returns an array of the costs\n",
    "def generate_and_train(model,image_generator,img_size,batchsize,steps):\n",
    "   \n",
    "    #Generate an array of the numbers 1 to img_size and create a meshgrid from them    \n",
    "    pixels=np.linspace(-1,1,img_size)\n",
    "    x,y=np.meshgrid(pixels,pixels)\n",
    "    \n",
    "    #Now create a test image using 1 call to image_generator\n",
    "    #y_test=np.zeros([1,pixels,pixels,1])\n",
    "    #y_test[:,:,:,0]=image_generator(1,x,y)\n",
    "    \n",
    "    #Now create the empty arrays for the images and cost\n",
    "    y_in=np.zeros([batchsize,img_size,img_size,1])\n",
    "    y_target=np.zeros([batchsize,img_size,img_size,1])\n",
    "    cost=np.zeros(steps)\n",
    "    \n",
    "    #Loop through the steps, get a random batch of samples, train the model, repeat\n",
    "    for k in range(steps):\n",
    "        # produce samples:\n",
    "        y_in[:,:,:,0]=image_generator(batchsize,x,y)\n",
    "        y_target = np.copy(y_in) # autoencoder wants to reproduce its input!\n",
    "        \n",
    "        # do one training step on this batch of samples:\n",
    "        cost[k]=model.train_on_batch(y_in,y_target)\n",
    "    \n",
    "    return cost,y_target\n",
    "\n",
    "def get_test_image(image_generator,img_size):\n",
    "    #Generate an array of the numbers 1 to img_size and create a meshgrid from them    \n",
    "    pixels=np.linspace(-1,1,img_size)\n",
    "    x,y=np.meshgrid(pixels,pixels)\n",
    "    \n",
    "    #Now create a test image using 1 call to image_generator\n",
    "    y_test=np.zeros([1,img_size,img_size,1])\n",
    "    y_test[:,:,:,0]=image_generator(1,x,y)\n",
    "    return y_test\n",
    "\n",
    "# A function to generate and plot a single test image and the output of our model\n",
    "# only to be called after training the model\n",
    "def plot_test_image(model,image_generator,img_size):\n",
    "    #Get random test image\n",
    "    y_test = get_test_image(image_generator,img_size)\n",
    "    \n",
    "    #Create the output image\n",
    "    y_test_out=model.predict_on_batch(y_test)\n",
    "    \n",
    "    fig, ax = plt.subplots(1,2)\n",
    "    \n",
    "    ax[0].imshow(y_test[0,:,:,0],origin='lower')\n",
    "    ax[0].set_title(\"Input\")\n",
    "    \n",
    "    ax[1].imshow(y_test_out[0,:,:,0],origin='lower')\n",
    "    ax[1].set_title(\"Output\")\n",
    "    \n",
    "def print_layers(network, y_in):\n",
    "    \"\"\"\n",
    "    Call this on some test images y_in, to get a print-out of\n",
    "    the layer sizes. Shapes shown are (batchsize,pixels,pixels,channels).\n",
    "    After a call to the visualization routine, y_target will contain\n",
    "    the last set of training images, so you could feed those in here.\n",
    "    \"\"\"\n",
    "    layer_features=get_layer_activations(network,y_in)\n",
    "    #print(layer_features)\n",
    "    for idx,feature in enumerate(layer_features):\n",
    "        s=np.shape(feature)\n",
    "        print(\"Layer \"+str(idx)+\": \"+str(s[1]*s[2]*s[3])+\" neurons / \", s)\n",
    "\n",
    "def get_layer_activation_extractor(network):\n",
    "    #print(network.inputs)\n",
    "    #for layer in network.layers:\n",
    "    #    print(layer.output)\n",
    "    return(keras.Model(inputs=network.inputs,\n",
    "                            outputs=[layer.output for layer in network.layers]))\n",
    "\n",
    "def get_layer_activations(network, y_in):\n",
    "    \"\"\"\n",
    "    Call this on some test images y_in, to get the intermediate \n",
    "    layer neuron values. These are returned in a list, with one\n",
    "    entry for each layer (the entries are arrays).\n",
    "    \"\"\"\n",
    "    extractor=get_layer_activation_extractor(network)\n",
    "    #print(extractor)\n",
    "    layer_features = extractor(y_in)\n",
    "    return layer_features\n",
    "    "
   ]
  },
  {
   "cell_type": "markdown",
   "metadata": {},
   "source": [
    "## Circle generator\n"
   ]
  },
  {
   "cell_type": "code",
   "execution_count": 3,
   "metadata": {},
   "outputs": [],
   "source": [
    "# A simple image generator that returns an array of batchsize images\n",
    "# each image has a size of x * y pixels\n",
    "# in this image each image has a randomly placed circle (and the circle is of random size)\n",
    "def circle_generator(batchsize,x,y):\n",
    "    R=np.random.uniform(size=batchsize)\n",
    "    x0=np.random.uniform(size=batchsize,low=-1,high=1)\n",
    "    y0=np.random.uniform(size=batchsize,low=-1,high=1)\n",
    "    return( 1.0*((x[None,:,:]-x0[:,None,None])**2 + (y[None,:,:]-y0[:,None,None])**2 < R[:,None,None]**2) )\n"
   ]
  },
  {
   "cell_type": "markdown",
   "metadata": {},
   "source": [
    "### Task 1:\n",
    "Implement any network design, but the bottleneck must contain no more than 9 neurons."
   ]
  },
  {
   "cell_type": "code",
   "execution_count": 19,
   "metadata": {},
   "outputs": [
    {
     "name": "stdout",
     "output_type": "stream",
     "text": [
      "Model: \"sequential_3\"\n",
      "_________________________________________________________________\n",
      "Layer (type)                 Output Shape              Param #   \n",
      "=================================================================\n",
      "conv2d_19 (Conv2D)           (None, None, None, 4)     104       \n",
      "_________________________________________________________________\n",
      "batch_normalization_13 (Batc (None, None, None, 4)     16        \n",
      "_________________________________________________________________\n",
      "average_pooling2d_7 (Average (None, None, None, 4)     0         \n",
      "_________________________________________________________________\n",
      "conv2d_20 (Conv2D)           (None, None, None, 4)     404       \n",
      "_________________________________________________________________\n",
      "batch_normalization_14 (Batc (None, None, None, 4)     16        \n",
      "_________________________________________________________________\n",
      "average_pooling2d_8 (Average (None, None, None, 4)     0         \n",
      "_________________________________________________________________\n",
      "batch_normalization_15 (Batc (None, None, None, 4)     16        \n",
      "_________________________________________________________________\n",
      "conv2d_21 (Conv2D)           (None, None, None, 1)     37        \n",
      "_________________________________________________________________\n",
      "batch_normalization_16 (Batc (None, None, None, 1)     4         \n",
      "_________________________________________________________________\n",
      "up_sampling2d_7 (UpSampling2 (None, None, None, 1)     0         \n",
      "_________________________________________________________________\n",
      "conv2d_22 (Conv2D)           (None, None, None, 4)     104       \n",
      "_________________________________________________________________\n",
      "up_sampling2d_8 (UpSampling2 (None, None, None, 4)     0         \n",
      "_________________________________________________________________\n",
      "conv2d_23 (Conv2D)           (None, None, None, 4)     404       \n",
      "_________________________________________________________________\n",
      "batch_normalization_17 (Batc (None, None, None, 4)     16        \n",
      "_________________________________________________________________\n",
      "conv2d_24 (Conv2D)           (None, None, None, 1)     101       \n",
      "=================================================================\n",
      "Total params: 1,222\n",
      "Trainable params: 1,188\n",
      "Non-trainable params: 34\n",
      "_________________________________________________________________\n"
     ]
    }
   ],
   "source": [
    "# Set up model\n",
    "model=keras.models.Sequential()\n",
    "\n",
    "# First down sampling, increase by 4 kernal, dimensions divied by 3 to 9x9, with batch norm\n",
    "model.add(keras.layers.Conv2D(4,5,input_shape=(None,None,1), activation=\"relu\",padding='same'))\n",
    "model.add(keras.layers.BatchNormalization())\n",
    "model.add(keras.layers.AveragePooling2D(pool_size=(3,3),padding='same')) \n",
    "\n",
    "# Second down sampling, stil 4 kernal, but dimensions divied by 3 to 3x3, with batch norm\n",
    "model.add(keras.layers.Conv2D(4,5, activation=\"relu\",padding='same'))\n",
    "model.add(keras.layers.BatchNormalization())\n",
    "model.add(keras.layers.AveragePooling2D(pool_size=(3,3),padding='same'))\n",
    "\n",
    "\n",
    "model.add(keras.layers.BatchNormalization())\n",
    "\n",
    "# Bottleneck 1 kernal, dimension 3x3, therefore 9 neurons\n",
    "model.add(keras.layers.Conv2D(1,3, activation=\"relu\",padding='same'))\n",
    "\n",
    "model.add(keras.layers.BatchNormalization())\n",
    "\n",
    "\n",
    "# Up sampling increase size by 3 to 9x9, convolution increase to 4 kernals\n",
    "model.add(keras.layers.UpSampling2D(size=(3,3))) \n",
    "model.add(keras.layers.Conv2D(4,5, activation=\"relu\",padding='same'))\n",
    "\n",
    "# Up sampling increase size by 3 to 27x27, convolution stays to 4 kernals\n",
    "model.add(keras.layers.UpSampling2D(size=(3,3))) # up\n",
    "model.add(keras.layers.Conv2D(4,5, activation=\"relu\",padding='same'))\n",
    "\n",
    "model.add(keras.layers.BatchNormalization())\n",
    "\n",
    "# Last convolution convert kernal to 1, so 27x27x1\n",
    "model.add(keras.layers.Conv2D(1,5,activation=\"sigmoid\",padding='same'))\n",
    "\n",
    "# Compiling the model\n",
    "model.compile(loss='mean_squared_error', optimizer='adam')\n",
    "\n",
    "model.summary()"
   ]
  },
  {
   "cell_type": "code",
   "execution_count": 20,
   "metadata": {},
   "outputs": [],
   "source": [
    "#Now we can do the actual model training\n",
    "steps=600\n",
    "cost,y_target=generate_and_train(model,circle_generator,img_size=27,batchsize=50,steps=steps)"
   ]
  },
  {
   "cell_type": "code",
   "execution_count": 21,
   "metadata": {},
   "outputs": [
    {
     "name": "stdout",
     "output_type": "stream",
     "text": [
      "Layer 0: 2916 neurons /  (50, 27, 27, 4)\n",
      "Layer 1: 2916 neurons /  (50, 27, 27, 4)\n",
      "Layer 2: 324 neurons /  (50, 9, 9, 4)\n",
      "Layer 3: 324 neurons /  (50, 9, 9, 4)\n",
      "Layer 4: 324 neurons /  (50, 9, 9, 4)\n",
      "Layer 5: 36 neurons /  (50, 3, 3, 4)\n",
      "Layer 6: 36 neurons /  (50, 3, 3, 4)\n",
      "Layer 7: 9 neurons /  (50, 3, 3, 1)\n",
      "Layer 8: 9 neurons /  (50, 3, 3, 1)\n",
      "Layer 9: 81 neurons /  (50, 9, 9, 1)\n",
      "Layer 10: 324 neurons /  (50, 9, 9, 4)\n",
      "Layer 11: 2916 neurons /  (50, 27, 27, 4)\n",
      "Layer 12: 2916 neurons /  (50, 27, 27, 4)\n",
      "Layer 13: 2916 neurons /  (50, 27, 27, 4)\n",
      "Layer 14: 729 neurons /  (50, 27, 27, 1)\n"
     ]
    }
   ],
   "source": [
    "# Printing model neuron layers\n",
    "print_layers(model,  y_target)"
   ]
  },
  {
   "cell_type": "code",
   "execution_count": 22,
   "metadata": {},
   "outputs": [
    {
     "data": {
      "image/png": "[encoded data removed]",
      "text/plain": [
       "<Figure size 720x360 with 1 Axes>"
      ]
     },
     "metadata": {
      "needs_background": "light"
     },
     "output_type": "display_data"
    },
    {
     "name": "stdout",
     "output_type": "stream",
     "text": [
      "Cost value: 0.02877911552786827\n"
     ]
    }
   ],
   "source": [
    "#Plot the cost\n",
    "stepArray=np.arange(steps) \n",
    "\n",
    "fig, ax = plt.subplots(figsize=(10,5))\n",
    "ax.plot(stepArray,cost,linewidth=3) \n",
    "\n",
    "ax.set_xlabel(\"Step Number\") \n",
    "ax.set_ylabel(\"Cost\")\n",
    "ax.set_title('Plot of Cost over training steps')\n",
    "plt.show()\n",
    "\n",
    "print('Cost value:',cost[-1])"
   ]
  },
  {
   "cell_type": "code",
   "execution_count": 23,
   "metadata": {},
   "outputs": [
    {
     "data": {
      "image/png": "[encoded data removed]",
      "text/plain": [
       "<Figure size 432x288 with 2 Axes>"
      ]
     },
     "metadata": {
      "needs_background": "light"
     },
     "output_type": "display_data"
    }
   ],
   "source": [
    "#Just for fun let's plot what the image looks like before any training\n",
    "#Probably since our input image is just 1 or 0 the output even with random model weights and biases will\n",
    "#have a circle imprint/\n",
    "plot_test_image(model,circle_generator,25)"
   ]
  },
  {
   "cell_type": "markdown",
   "metadata": {},
   "source": [
    "#### Comment:\n",
    "- Achieved cost of 0.015; we have a bottle neck of 9 neurons and use batch normilisation to optimise. Batch normalization is to make the artificial neural networks faster and more stable through normalization of the layers' inputs by re-centering and re-scaling. Using relu with single sigmoid at end gives best cost reduction."
   ]
  },
  {
   "cell_type": "markdown",
   "metadata": {},
   "source": [
    "### Task 2:\n",
    "Implement any network design, but the bottleneck must contain no more than 3 neurons."
   ]
  },
  {
   "cell_type": "code",
   "execution_count": 24,
   "metadata": {},
   "outputs": [
    {
     "name": "stdout",
     "output_type": "stream",
     "text": [
      "Model: \"sequential_4\"\n",
      "_________________________________________________________________\n",
      "Layer (type)                 Output Shape              Param #   \n",
      "=================================================================\n",
      "conv2d_25 (Conv2D)           (None, None, None, 4)     104       \n",
      "_________________________________________________________________\n",
      "batch_normalization_18 (Batc (None, None, None, 4)     16        \n",
      "_________________________________________________________________\n",
      "average_pooling2d_9 (Average (None, None, None, 4)     0         \n",
      "_________________________________________________________________\n",
      "conv2d_26 (Conv2D)           (None, None, None, 4)     404       \n",
      "_________________________________________________________________\n",
      "average_pooling2d_10 (Averag (None, None, None, 4)     0         \n",
      "_________________________________________________________________\n",
      "batch_normalization_19 (Batc (None, None, None, 4)     16        \n",
      "_________________________________________________________________\n",
      "conv2d_27 (Conv2D)           (None, None, None, 3)     111       \n",
      "_________________________________________________________________\n",
      "average_pooling2d_11 (Averag (None, None, None, 3)     0         \n",
      "_________________________________________________________________\n",
      "up_sampling2d_9 (UpSampling2 (None, None, None, 3)     0         \n",
      "_________________________________________________________________\n",
      "conv2d_28 (Conv2D)           (None, None, None, 4)     304       \n",
      "_________________________________________________________________\n",
      "batch_normalization_20 (Batc (None, None, None, 4)     16        \n",
      "_________________________________________________________________\n",
      "up_sampling2d_10 (UpSampling (None, None, None, 4)     0         \n",
      "_________________________________________________________________\n",
      "conv2d_29 (Conv2D)           (None, None, None, 4)     404       \n",
      "_________________________________________________________________\n",
      "up_sampling2d_11 (UpSampling (None, None, None, 4)     0         \n",
      "_________________________________________________________________\n",
      "conv2d_30 (Conv2D)           (None, None, None, 4)     404       \n",
      "_________________________________________________________________\n",
      "conv2d_31 (Conv2D)           (None, None, None, 1)     101       \n",
      "=================================================================\n",
      "Total params: 1,880\n",
      "Trainable params: 1,856\n",
      "Non-trainable params: 24\n",
      "_________________________________________________________________\n"
     ]
    }
   ],
   "source": [
    "# Set up model\n",
    "model=keras.models.Sequential()\n",
    "\n",
    "# First down sampling, increase by 4 kernal, dimensions divied by 3 to 9x9, with batch norm\n",
    "model.add(keras.layers.Conv2D(4,5,input_shape=(None,None,1), activation=\"relu\",padding='same'))\n",
    "model.add(keras.layers.BatchNormalization())\n",
    "model.add(keras.layers.AveragePooling2D(pool_size=(3,3),padding='same'))\n",
    "\n",
    "# Second down sampling, stil 4 kernal, but dimensions divied by 3 to 3x3, with batch norm\n",
    "model.add(keras.layers.Conv2D(4,5, activation=\"relu\",padding='same'))\n",
    "model.add(keras.layers.AveragePooling2D(pool_size=(3,3),padding='same')) \n",
    "model.add(keras.layers.BatchNormalization())\n",
    "\n",
    "\n",
    "# Bottleneck 3 kernal, with pooling to dimension 1x1, therefore 3 neurons\n",
    "model.add(keras.layers.Conv2D(3,3, activation=\"relu\",padding='same'))\n",
    "model.add(keras.layers.AveragePooling2D(pool_size=(3,3),padding='same')) \n",
    "\n",
    "# Up sampling increase size by 3 to 3x3, convolution increase to 4 kernals\n",
    "model.add(keras.layers.UpSampling2D(size=(3,3)))\n",
    "model.add(keras.layers.Conv2D(4,5, activation=\"relu\",padding='same'))\n",
    "model.add(keras.layers.BatchNormalization())\n",
    "\n",
    "# Up sampling increase size by 3 to 9x9, convolution keeps 4 kernals\n",
    "model.add(keras.layers.UpSampling2D(size=(3,3))) \n",
    "model.add(keras.layers.Conv2D(4,5, activation=\"relu\",padding='same'))\n",
    "\n",
    "# Up sampling increase size by 3 to 27x27, convolution stays to 4 kernals\n",
    "model.add(keras.layers.UpSampling2D(size=(3,3))) \n",
    "model.add(keras.layers.Conv2D(4,5, activation=\"sigmoid\",padding='same'))\n",
    "\n",
    "# Last convolution convert kernal to 1, so 27x27x1\n",
    "model.add(keras.layers.Conv2D(1,5,activation=\"sigmoid\",padding='same'))\n",
    "\n",
    "# Compiling the model\n",
    "model.compile(loss='mean_squared_error', optimizer='nadam')\n",
    "\n",
    "model.summary()"
   ]
  },
  {
   "cell_type": "code",
   "execution_count": 25,
   "metadata": {},
   "outputs": [
    {
     "name": "stdout",
     "output_type": "stream",
     "text": [
      "Layer 0: 2916 neurons /  (50, 27, 27, 4)\n",
      "Layer 1: 2916 neurons /  (50, 27, 27, 4)\n",
      "Layer 2: 324 neurons /  (50, 9, 9, 4)\n",
      "Layer 3: 324 neurons /  (50, 9, 9, 4)\n",
      "Layer 4: 36 neurons /  (50, 3, 3, 4)\n",
      "Layer 5: 36 neurons /  (50, 3, 3, 4)\n",
      "Layer 6: 27 neurons /  (50, 3, 3, 3)\n",
      "Layer 7: 3 neurons /  (50, 1, 1, 3)\n",
      "Layer 8: 27 neurons /  (50, 3, 3, 3)\n",
      "Layer 9: 36 neurons /  (50, 3, 3, 4)\n",
      "Layer 10: 36 neurons /  (50, 3, 3, 4)\n",
      "Layer 11: 324 neurons /  (50, 9, 9, 4)\n",
      "Layer 12: 324 neurons /  (50, 9, 9, 4)\n",
      "Layer 13: 2916 neurons /  (50, 27, 27, 4)\n",
      "Layer 14: 2916 neurons /  (50, 27, 27, 4)\n",
      "Layer 15: 729 neurons /  (50, 27, 27, 1)\n"
     ]
    }
   ],
   "source": [
    "print_layers(model,  y_target)"
   ]
  },
  {
   "cell_type": "code",
   "execution_count": null,
   "metadata": {},
   "outputs": [],
   "source": [
    "#Now we can do the actual model training\n",
    "steps=600\n",
    "cost,y_target=generate_and_train(model,circle_generator,img_size=27,batchsize=50,steps=steps)"
   ]
  },
  {
   "cell_type": "code",
   "execution_count": null,
   "metadata": {},
   "outputs": [],
   "source": [
    "# Plot the cost\n",
    "stepArray=np.arange(steps) \n",
    "\n",
    "fig, ax = plt.subplots()\n",
    "ax.plot(stepArray,cost,linewidth=3) \n",
    "\n",
    "ax.set_xlabel(\"Step Number\") \n",
    "ax.set_ylabel(\"Cost\")\n",
    "ax.set_title('Plot of Cost over training steps')\n",
    "plt.show()\n",
    "\n",
    "print('Cost value:',cost[-1])"
   ]
  },
  {
   "cell_type": "code",
   "execution_count": null,
   "metadata": {},
   "outputs": [],
   "source": [
    "#Just for fun let's plot what the image looks like before any training\n",
    "#Probably since our input image is just 1 or 0 the output even with random model weights and biases will\n",
    "#have a circle imprint\n",
    "plot_test_image(model,circle_generator,25)"
   ]
  },
  {
   "cell_type": "markdown",
   "metadata": {},
   "source": [
    "#### Comment:\n",
    "- Achieved cost of 0.02797 this is acceptable  low, as much tighter bottleneck makes network less effective. We use nadam optimiser as we get better optimisation of the network"
   ]
  },
  {
   "cell_type": "markdown",
   "metadata": {},
   "source": [
    "#### Practicalities\n",
    "You should use this notebook for your work and upload it to both Moodle and CoCalc. You are expected to use TensorFlow and Keras to complete these tasks. The notebook should be self-contained and able to be executed if necessary. Marks will be awarded for (roughly equally weighted):\n",
    "- Overall notebook clarity (both in terms of good coding practice and coherent discussion)\n",
    "- Task 1 performance (0.02 is a good target cost to do better than)\n",
    "- Task 2 performance ( a good target here is left for the student to determine)"
   ]
  }
 ],
 "metadata": {
  "kernelspec": {
   "display_name": "Python 3",
   "language": "python",
   "name": "python3"
  },
  "language_info": {
   "codemirror_mode": {
    "name": "ipython",
    "version": 3
   },
   "file_extension": ".py",
   "mimetype": "text/x-python",
   "name": "python",
   "nbconvert_exporter": "python",
   "pygments_lexer": "ipython3",
   "version": "3.7.3"
  }
 },
 "nbformat": 4,
 "nbformat_minor": 4
}
